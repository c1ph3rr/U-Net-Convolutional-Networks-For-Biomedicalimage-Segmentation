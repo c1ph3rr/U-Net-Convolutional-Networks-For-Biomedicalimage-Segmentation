{
 "cells": [
  {
   "cell_type": "code",
   "execution_count": 1,
   "metadata": {},
   "outputs": [],
   "source": [
    "from tensorflow.keras.models import Model\n",
    "from tensorflow.keras.layers import Conv2D, MaxPool2D, Activation, BatchNormalization, Input, Conv2DTranspose, concatenate\n",
    "from tensorflow.keras.utils import plot_model\n",
    "import tensorflow as tf"
   ]
  },
  {
   "cell_type": "code",
   "execution_count": 2,
   "metadata": {},
   "outputs": [],
   "source": [
    "def conv_block(inp, filters, name, kernel_size=3, strides=1, padding='same', kernel_initializer='he_normal'):\n",
    "    '''Convolutional block with 2 convolutional layers'''\n",
    "    x = Conv2D(filters=filters, kernel_size=kernel_size, strides=strides, padding=padding, kernel_initializer=kernel_initializer, name='conv'+name+'a')(inp)\n",
    "    x = BatchNormalization(name='batch'+name+'a')(x)\n",
    "    x = Activation('relu', name='activation'+name+'a')(x)\n",
    "    x = Conv2D(filters=filters, kernel_size=kernel_size, strides=strides, padding=padding, kernel_initializer=kernel_initializer, name='conv'+name+'b')(x)\n",
    "    x = BatchNormalization(name='batch'+name+'b')(x)\n",
    "    x = Activation('relu', name='activation'+name+'b')(x)\n",
    "    return x"
   ]
  },
  {
   "cell_type": "code",
   "execution_count": 3,
   "metadata": {},
   "outputs": [],
   "source": [
    "def pool_block(inp, pool_size, strides, name):\n",
    "    '''Max-pooling layer'''\n",
    "    pool = MaxPool2D(pool_size=pool_size, strides=strides, name='pool'+name)(inp)\n",
    "    return pool"
   ]
  },
  {
   "cell_type": "code",
   "execution_count": 4,
   "metadata": {},
   "outputs": [],
   "source": [
    "def upscale_block(inp, skip, filters, name, kernel_size=2, strides=2, kernel_initializer='he_normal'):\n",
    "    '''Upscale block with Conv2dtranspose'''\n",
    "    x = Conv2DTranspose(filters=filters, kernel_size=kernel_size, strides=strides, name='transpose'+name)(inp)\n",
    "    x = concatenate([skip, x], name='concate'+name)\n",
    "    return x"
   ]
  },
  {
   "cell_type": "code",
   "execution_count": 5,
   "metadata": {},
   "outputs": [],
   "source": [
    "inp = Input((512, 512, 3), name='input')"
   ]
  },
  {
   "cell_type": "code",
   "execution_count": 6,
   "metadata": {},
   "outputs": [
    {
     "name": "stdout",
     "output_type": "stream",
     "text": [
      "WARNING:tensorflow:From /home/c1ph3rr/.local/lib/python3.6/site-packages/tensorflow/python/ops/resource_variable_ops.py:435: colocate_with (from tensorflow.python.framework.ops) is deprecated and will be removed in a future version.\n",
      "Instructions for updating:\n",
      "Colocations handled automatically by placer.\n"
     ]
    }
   ],
   "source": [
    "conv1 = conv_block(inp, 64, '1')\n",
    "skip1 = conv1\n",
    "conv1 = pool_block(conv1, 2, 2, '1')"
   ]
  },
  {
   "cell_type": "code",
   "execution_count": 7,
   "metadata": {},
   "outputs": [],
   "source": [
    "conv2 = conv_block(conv1, 128, '2')\n",
    "skip2 = conv2\n",
    "conv2 = pool_block(conv2, 2, 2, '2')"
   ]
  },
  {
   "cell_type": "code",
   "execution_count": 8,
   "metadata": {},
   "outputs": [],
   "source": [
    "conv3 = conv_block(conv2, 256, '3')\n",
    "skip3 = conv3\n",
    "conv3 = pool_block(conv3, 2, 2, '3')"
   ]
  },
  {
   "cell_type": "code",
   "execution_count": 9,
   "metadata": {},
   "outputs": [],
   "source": [
    "conv4 = conv_block(conv3, 512, '4')\n",
    "skip4 = conv4\n",
    "conv4 = pool_block(conv4, 2, 2, '4')"
   ]
  },
  {
   "cell_type": "code",
   "execution_count": 10,
   "metadata": {},
   "outputs": [],
   "source": [
    "conv5 = conv_block(conv4, 1024, '5')"
   ]
  },
  {
   "cell_type": "code",
   "execution_count": 11,
   "metadata": {},
   "outputs": [],
   "source": [
    "conv6 = conv_block(conv5, 512, '6')\n",
    "conv6 = upscale_block(conv6, skip4, 512, '1')"
   ]
  },
  {
   "cell_type": "code",
   "execution_count": 12,
   "metadata": {},
   "outputs": [],
   "source": [
    "conv7 = conv_block(conv6, 256, '7')\n",
    "conv7 = upscale_block(conv7, skip3, 256, '2')"
   ]
  },
  {
   "cell_type": "code",
   "execution_count": 13,
   "metadata": {},
   "outputs": [],
   "source": [
    "conv8 = conv_block(conv7, 128, '8')\n",
    "conv8 = upscale_block(conv8, skip2, 128, '3')"
   ]
  },
  {
   "cell_type": "code",
   "execution_count": 14,
   "metadata": {},
   "outputs": [],
   "source": [
    "conv9 = conv_block(conv8, 64, '9')\n",
    "conv9 = upscale_block(conv9, skip1, 64, '4')\n",
    "conv9 = conv_block(conv9, 64, '10')\n",
    "conv9 = Conv2D(2, 1, padding='same', activation='sigmoid', kernel_initializer='he_normal', name='conv11')(conv9)"
   ]
  },
  {
   "cell_type": "code",
   "execution_count": 15,
   "metadata": {},
   "outputs": [],
   "source": [
    "model = Model(inp, conv9)"
   ]
  },
  {
   "cell_type": "code",
   "execution_count": 16,
   "metadata": {},
   "outputs": [],
   "source": [
    "# plot_model(model, 'unet.png', True, True)"
   ]
  },
  {
   "cell_type": "code",
   "execution_count": 18,
   "metadata": {},
   "outputs": [
    {
     "name": "stdout",
     "output_type": "stream",
     "text": [
      "__________________________________________________________________________________________________\n",
      "Layer (type)                    Output Shape         Param #     Connected to                     \n",
      "==================================================================================================\n",
      "input (InputLayer)              (None, 512, 512, 3)  0                                            \n",
      "__________________________________________________________________________________________________\n",
      "conv1a (Conv2D)                 (None, 512, 512, 64) 1792        input[0][0]                      \n",
      "__________________________________________________________________________________________________\n",
      "batch1a (BatchNormalizationV1)  (None, 512, 512, 64) 256         conv1a[0][0]                     \n",
      "__________________________________________________________________________________________________\n",
      "activation1a (Activation)       (None, 512, 512, 64) 0           batch1a[0][0]                    \n",
      "__________________________________________________________________________________________________\n",
      "conv1b (Conv2D)                 (None, 512, 512, 64) 36928       activation1a[0][0]               \n",
      "__________________________________________________________________________________________________\n",
      "batch1b (BatchNormalizationV1)  (None, 512, 512, 64) 256         conv1b[0][0]                     \n",
      "__________________________________________________________________________________________________\n",
      "activation1b (Activation)       (None, 512, 512, 64) 0           batch1b[0][0]                    \n",
      "__________________________________________________________________________________________________\n",
      "pool1 (MaxPooling2D)            (None, 256, 256, 64) 0           activation1b[0][0]               \n",
      "__________________________________________________________________________________________________\n",
      "conv2a (Conv2D)                 (None, 256, 256, 128 73856       pool1[0][0]                      \n",
      "__________________________________________________________________________________________________\n",
      "batch2a (BatchNormalizationV1)  (None, 256, 256, 128 512         conv2a[0][0]                     \n",
      "__________________________________________________________________________________________________\n",
      "activation2a (Activation)       (None, 256, 256, 128 0           batch2a[0][0]                    \n",
      "__________________________________________________________________________________________________\n",
      "conv2b (Conv2D)                 (None, 256, 256, 128 147584      activation2a[0][0]               \n",
      "__________________________________________________________________________________________________\n",
      "batch2b (BatchNormalizationV1)  (None, 256, 256, 128 512         conv2b[0][0]                     \n",
      "__________________________________________________________________________________________________\n",
      "activation2b (Activation)       (None, 256, 256, 128 0           batch2b[0][0]                    \n",
      "__________________________________________________________________________________________________\n",
      "pool2 (MaxPooling2D)            (None, 128, 128, 128 0           activation2b[0][0]               \n",
      "__________________________________________________________________________________________________\n",
      "conv3a (Conv2D)                 (None, 128, 128, 256 295168      pool2[0][0]                      \n",
      "__________________________________________________________________________________________________\n",
      "batch3a (BatchNormalizationV1)  (None, 128, 128, 256 1024        conv3a[0][0]                     \n",
      "__________________________________________________________________________________________________\n",
      "activation3a (Activation)       (None, 128, 128, 256 0           batch3a[0][0]                    \n",
      "__________________________________________________________________________________________________\n",
      "conv3b (Conv2D)                 (None, 128, 128, 256 590080      activation3a[0][0]               \n",
      "__________________________________________________________________________________________________\n",
      "batch3b (BatchNormalizationV1)  (None, 128, 128, 256 1024        conv3b[0][0]                     \n",
      "__________________________________________________________________________________________________\n",
      "activation3b (Activation)       (None, 128, 128, 256 0           batch3b[0][0]                    \n",
      "__________________________________________________________________________________________________\n",
      "pool3 (MaxPooling2D)            (None, 64, 64, 256)  0           activation3b[0][0]               \n",
      "__________________________________________________________________________________________________\n",
      "conv4a (Conv2D)                 (None, 64, 64, 512)  1180160     pool3[0][0]                      \n",
      "__________________________________________________________________________________________________\n",
      "batch4a (BatchNormalizationV1)  (None, 64, 64, 512)  2048        conv4a[0][0]                     \n",
      "__________________________________________________________________________________________________\n",
      "activation4a (Activation)       (None, 64, 64, 512)  0           batch4a[0][0]                    \n",
      "__________________________________________________________________________________________________\n",
      "conv4b (Conv2D)                 (None, 64, 64, 512)  2359808     activation4a[0][0]               \n",
      "__________________________________________________________________________________________________\n",
      "batch4b (BatchNormalizationV1)  (None, 64, 64, 512)  2048        conv4b[0][0]                     \n",
      "__________________________________________________________________________________________________\n",
      "activation4b (Activation)       (None, 64, 64, 512)  0           batch4b[0][0]                    \n",
      "__________________________________________________________________________________________________\n",
      "pool4 (MaxPooling2D)            (None, 32, 32, 512)  0           activation4b[0][0]               \n",
      "__________________________________________________________________________________________________\n",
      "conv5a (Conv2D)                 (None, 32, 32, 1024) 4719616     pool4[0][0]                      \n",
      "__________________________________________________________________________________________________\n",
      "batch5a (BatchNormalizationV1)  (None, 32, 32, 1024) 4096        conv5a[0][0]                     \n",
      "__________________________________________________________________________________________________\n",
      "activation5a (Activation)       (None, 32, 32, 1024) 0           batch5a[0][0]                    \n",
      "__________________________________________________________________________________________________\n",
      "conv5b (Conv2D)                 (None, 32, 32, 1024) 9438208     activation5a[0][0]               \n",
      "__________________________________________________________________________________________________\n",
      "batch5b (BatchNormalizationV1)  (None, 32, 32, 1024) 4096        conv5b[0][0]                     \n",
      "__________________________________________________________________________________________________\n",
      "activation5b (Activation)       (None, 32, 32, 1024) 0           batch5b[0][0]                    \n",
      "__________________________________________________________________________________________________\n",
      "conv6a (Conv2D)                 (None, 32, 32, 512)  4719104     activation5b[0][0]               \n",
      "__________________________________________________________________________________________________\n",
      "batch6a (BatchNormalizationV1)  (None, 32, 32, 512)  2048        conv6a[0][0]                     \n",
      "__________________________________________________________________________________________________\n",
      "activation6a (Activation)       (None, 32, 32, 512)  0           batch6a[0][0]                    \n",
      "__________________________________________________________________________________________________\n",
      "conv6b (Conv2D)                 (None, 32, 32, 512)  2359808     activation6a[0][0]               \n",
      "__________________________________________________________________________________________________\n",
      "batch6b (BatchNormalizationV1)  (None, 32, 32, 512)  2048        conv6b[0][0]                     \n",
      "__________________________________________________________________________________________________\n",
      "activation6b (Activation)       (None, 32, 32, 512)  0           batch6b[0][0]                    \n",
      "__________________________________________________________________________________________________\n",
      "transpose1 (Conv2DTranspose)    (None, 64, 64, 512)  1049088     activation6b[0][0]               \n",
      "__________________________________________________________________________________________________\n",
      "concate1 (Concatenate)          (None, 64, 64, 1024) 0           activation4b[0][0]               \n",
      "                                                                 transpose1[0][0]                 \n",
      "__________________________________________________________________________________________________\n",
      "conv7a (Conv2D)                 (None, 64, 64, 256)  2359552     concate1[0][0]                   \n",
      "__________________________________________________________________________________________________\n",
      "batch7a (BatchNormalizationV1)  (None, 64, 64, 256)  1024        conv7a[0][0]                     \n",
      "__________________________________________________________________________________________________\n",
      "activation7a (Activation)       (None, 64, 64, 256)  0           batch7a[0][0]                    \n",
      "__________________________________________________________________________________________________\n",
      "conv7b (Conv2D)                 (None, 64, 64, 256)  590080      activation7a[0][0]               \n",
      "__________________________________________________________________________________________________\n",
      "batch7b (BatchNormalizationV1)  (None, 64, 64, 256)  1024        conv7b[0][0]                     \n",
      "__________________________________________________________________________________________________\n",
      "activation7b (Activation)       (None, 64, 64, 256)  0           batch7b[0][0]                    \n",
      "__________________________________________________________________________________________________\n",
      "transpose2 (Conv2DTranspose)    (None, 128, 128, 256 262400      activation7b[0][0]               \n",
      "__________________________________________________________________________________________________\n",
      "concate2 (Concatenate)          (None, 128, 128, 512 0           activation3b[0][0]               \n",
      "                                                                 transpose2[0][0]                 \n",
      "__________________________________________________________________________________________________\n",
      "conv8a (Conv2D)                 (None, 128, 128, 128 589952      concate2[0][0]                   \n",
      "__________________________________________________________________________________________________\n",
      "batch8a (BatchNormalizationV1)  (None, 128, 128, 128 512         conv8a[0][0]                     \n",
      "__________________________________________________________________________________________________\n",
      "activation8a (Activation)       (None, 128, 128, 128 0           batch8a[0][0]                    \n",
      "__________________________________________________________________________________________________\n",
      "conv8b (Conv2D)                 (None, 128, 128, 128 147584      activation8a[0][0]               \n",
      "__________________________________________________________________________________________________\n",
      "batch8b (BatchNormalizationV1)  (None, 128, 128, 128 512         conv8b[0][0]                     \n",
      "__________________________________________________________________________________________________\n",
      "activation8b (Activation)       (None, 128, 128, 128 0           batch8b[0][0]                    \n",
      "__________________________________________________________________________________________________\n",
      "transpose3 (Conv2DTranspose)    (None, 256, 256, 128 65664       activation8b[0][0]               \n",
      "__________________________________________________________________________________________________\n",
      "concate3 (Concatenate)          (None, 256, 256, 256 0           activation2b[0][0]               \n",
      "                                                                 transpose3[0][0]                 \n",
      "__________________________________________________________________________________________________\n",
      "conv9a (Conv2D)                 (None, 256, 256, 64) 147520      concate3[0][0]                   \n",
      "__________________________________________________________________________________________________\n",
      "batch9a (BatchNormalizationV1)  (None, 256, 256, 64) 256         conv9a[0][0]                     \n",
      "__________________________________________________________________________________________________\n",
      "activation9a (Activation)       (None, 256, 256, 64) 0           batch9a[0][0]                    \n",
      "__________________________________________________________________________________________________\n",
      "conv9b (Conv2D)                 (None, 256, 256, 64) 36928       activation9a[0][0]               \n",
      "__________________________________________________________________________________________________\n",
      "batch9b (BatchNormalizationV1)  (None, 256, 256, 64) 256         conv9b[0][0]                     \n",
      "__________________________________________________________________________________________________\n",
      "activation9b (Activation)       (None, 256, 256, 64) 0           batch9b[0][0]                    \n",
      "__________________________________________________________________________________________________\n",
      "transpose4 (Conv2DTranspose)    (None, 512, 512, 64) 16448       activation9b[0][0]               \n",
      "__________________________________________________________________________________________________\n",
      "concate4 (Concatenate)          (None, 512, 512, 128 0           activation1b[0][0]               \n",
      "                                                                 transpose4[0][0]                 \n",
      "__________________________________________________________________________________________________\n",
      "conv10a (Conv2D)                (None, 512, 512, 64) 73792       concate4[0][0]                   \n",
      "__________________________________________________________________________________________________\n",
      "batch10a (BatchNormalizationV1) (None, 512, 512, 64) 256         conv10a[0][0]                    \n",
      "__________________________________________________________________________________________________\n",
      "activation10a (Activation)      (None, 512, 512, 64) 0           batch10a[0][0]                   \n",
      "__________________________________________________________________________________________________\n",
      "conv10b (Conv2D)                (None, 512, 512, 64) 36928       activation10a[0][0]              \n",
      "__________________________________________________________________________________________________\n",
      "batch10b (BatchNormalizationV1) (None, 512, 512, 64) 256         conv10b[0][0]                    \n",
      "__________________________________________________________________________________________________\n",
      "activation10b (Activation)      (None, 512, 512, 64) 0           batch10b[0][0]                   \n",
      "__________________________________________________________________________________________________\n",
      "conv11 (Conv2D)                 (None, 512, 512, 2)  130         activation10b[0][0]              \n",
      "==================================================================================================\n",
      "Total params: 31,322,242\n",
      "Trainable params: 31,310,210\n",
      "Non-trainable params: 12,032\n",
      "__________________________________________________________________________________________________\n"
     ]
    }
   ],
   "source": [
    "model.summary()"
   ]
  }
 ],
 "metadata": {
  "kernelspec": {
   "display_name": "Python 3",
   "language": "python",
   "name": "python3"
  },
  "language_info": {
   "codemirror_mode": {
    "name": "ipython",
    "version": 3
   },
   "file_extension": ".py",
   "mimetype": "text/x-python",
   "name": "python",
   "nbconvert_exporter": "python",
   "pygments_lexer": "ipython3",
   "version": "3.6.7"
  }
 },
 "nbformat": 4,
 "nbformat_minor": 2
}
